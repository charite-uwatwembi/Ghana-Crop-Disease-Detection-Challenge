{
 "cells": [
  {
   "cell_type": "markdown",
   "metadata": {},
   "source": [
    "## **1. Import Libraries**"
   ]
  },
  {
   "cell_type": "code",
   "execution_count": 1,
   "metadata": {},
   "outputs": [],
   "source": [
    "# Import necessary libraries\n",
    "import numpy as np\n",
    "import pandas as pd\n",
    "import matplotlib.pyplot as plt\n",
    "import cv2\n",
    "import os\n",
    "from sklearn.model_selection import train_test_split\n",
    "from tensorflow.keras.models import Sequential\n",
    "from tensorflow.keras.layers import Conv2D, MaxPooling2D, Flatten, Dense, Dropout\n",
    "from tensorflow.keras.preprocessing.image import ImageDataGenerator\n"
   ]
  },
  {
   "cell_type": "markdown",
   "metadata": {},
   "source": [
    "## **2. Load and Preprocess Data**"
   ]
  },
  {
   "cell_type": "code",
   "execution_count": 2,
   "metadata": {},
   "outputs": [
    {
     "name": "stdout",
     "output_type": "stream",
     "text": [
      "d:\\Study\\BSE\\MachineLearning\\Ghana-Crop-Disease-Detection-Challenge\n"
     ]
    }
   ],
   "source": [
    "import os\n",
    "print(os.getcwd())\n"
   ]
  },
  {
   "cell_type": "code",
   "execution_count": 3,
   "metadata": {},
   "outputs": [
    {
     "name": "stderr",
     "output_type": "stream",
     "text": [
      "<>:1: SyntaxWarning: invalid escape sequence '\\S'\n",
      "<>:2: SyntaxWarning: invalid escape sequence '\\S'\n",
      "<>:3: SyntaxWarning: invalid escape sequence '\\S'\n",
      "<>:1: SyntaxWarning: invalid escape sequence '\\S'\n",
      "<>:2: SyntaxWarning: invalid escape sequence '\\S'\n",
      "<>:3: SyntaxWarning: invalid escape sequence '\\S'\n",
      "C:\\Users\\Hp\\AppData\\Local\\Temp\\ipykernel_21116\\2334072554.py:1: SyntaxWarning: invalid escape sequence '\\S'\n",
      "  os.makedirs(os.path.join(\"d:\\Study\\BSE\\MachineLearning\\Ghana-Crop-Disease-Detection-Challenge\", 'Dataset', 'corn'), exist_ok=True)\n",
      "C:\\Users\\Hp\\AppData\\Local\\Temp\\ipykernel_21116\\2334072554.py:2: SyntaxWarning: invalid escape sequence '\\S'\n",
      "  os.makedirs(os.path.join(\"d:\\Study\\BSE\\MachineLearning\\Ghana-Crop-Disease-Detection-Challenge\", 'Dataset', 'tomatoes'), exist_ok=True)\n",
      "C:\\Users\\Hp\\AppData\\Local\\Temp\\ipykernel_21116\\2334072554.py:3: SyntaxWarning: invalid escape sequence '\\S'\n",
      "  os.makedirs(os.path.join(\"d:\\Study\\BSE\\MachineLearning\\Ghana-Crop-Disease-Detection-Challenge\", 'Dataset', 'pepper'), exist_ok=True)\n"
     ]
    }
   ],
   "source": [
    "os.makedirs(os.path.join(\"d:\\Study\\BSE\\MachineLearning\\Ghana-Crop-Disease-Detection-Challenge\", 'Dataset', 'corn'), exist_ok=True)\n",
    "os.makedirs(os.path.join(\"d:\\Study\\BSE\\MachineLearning\\Ghana-Crop-Disease-Detection-Challenge\", 'Dataset', 'tomatoes'), exist_ok=True)\n",
    "os.makedirs(os.path.join(\"d:\\Study\\BSE\\MachineLearning\\Ghana-Crop-Disease-Detection-Challenge\", 'Dataset', 'pepper'), exist_ok=True)"
   ]
  },
  {
   "cell_type": "code",
   "execution_count": 4,
   "metadata": {},
   "outputs": [
    {
     "name": "stdout",
     "output_type": "stream",
     "text": [
      "Directory does not exist: d:\\Study\\BSE\\MachineLearning\\Ghana-Crop-Disease-Detection-Challenge\\Dataset\\peppers\n"
     ]
    },
    {
     "name": "stderr",
     "output_type": "stream",
     "text": [
      "<>:4: SyntaxWarning: invalid escape sequence '\\S'\n",
      "<>:4: SyntaxWarning: invalid escape sequence '\\S'\n",
      "C:\\Users\\Hp\\AppData\\Local\\Temp\\ipykernel_21116\\3513751999.py:4: SyntaxWarning: invalid escape sequence '\\S'\n",
      "  base_dir = \"d:\\Study\\BSE\\MachineLearning\\Ghana-Crop-Disease-Detection-Challenge\\Dataset\"  # Update to your actual path\n"
     ]
    }
   ],
   "source": [
    "import os\n",
    "import cv2\n",
    "\n",
    "base_dir = \"d:\\Study\\BSE\\MachineLearning\\Ghana-Crop-Disease-Detection-Challenge\\Dataset\"  # Update to your actual path\n",
    "categories = ['corn', 'tomatoes', 'peppers']\n",
    "\n",
    "for category in categories:\n",
    "    category_path = os.path.join(base_dir, category)\n",
    "    if not os.path.exists(category_path):\n",
    "        print(f\"Directory does not exist: {category_path}\")\n",
    "        continue  # Skip to the next category if the folder doesn't exist\n",
    "\n",
    "    for img in os.listdir(category_path):\n",
    "        img_path = os.path.join(category_path, img)\n",
    "        image = cv2.imread(img_path)\n",
    "        # Process your image here\n"
   ]
  },
  {
   "cell_type": "markdown",
   "metadata": {},
   "source": [
    "### **3. Organize Images**"
   ]
  },
  {
   "cell_type": "code",
   "execution_count": null,
   "metadata": {},
   "outputs": [],
   "source": [
    "import os\n",
    "import pandas as pd\n",
    "import shutil\n",
    "\n",
    "# Load the CSV file\n",
    "csv_file = 'Dataset/Train.csv'  # Replace with the correct path to Train.csv\n",
    "df = pd.read_csv(csv_file)\n",
    "\n",
    "# Path where the images are located (unzipped images folder)\n",
    "images_dir = 'Dataset/images/'  # Replace with the path where images are stored\n",
    "\n",
    "# Output directories for Corn, Pepper, and Tomato\n",
    "output_dir = 'Dataset/organized_images/'\n",
    "corn_dir = os.path.join(output_dir, 'Corn')\n",
    "pepper_dir = os.path.join(output_dir, 'Pepper')\n",
    "tomato_dir = os.path.join(output_dir, 'Tomato')\n",
    "\n",
    "# Create directories if they don't exist\n",
    "os.makedirs(corn_dir, exist_ok=True)\n",
    "os.makedirs(pepper_dir, exist_ok=True)\n",
    "os.makedirs(tomato_dir, exist_ok=True)\n",
    "\n",
    "# Loop through each row in the CSV\n",
    "for index, row in df.iterrows():\n",
    "    image_id = row['Image_ID']\n",
    "    crop_disease = row['class']\n",
    "\n",
    "    # Determine the crop type from the class name\n",
    "    if 'Corn' in crop_disease:\n",
    "        crop_dir = corn_dir\n",
    "    elif 'Pepper' in crop_disease:\n",
    "        crop_dir = pepper_dir\n",
    "    elif 'Tomato' in crop_disease:\n",
    "        crop_dir = tomato_dir\n",
    "    else:\n",
    "        continue  # Skip if it's an unknown class\n",
    "\n",
    "    # Source image path\n",
    "    source_image = os.path.join(images_dir, image_id)\n",
    "\n",
    "    # Destination image path\n",
    "    destination_image = os.path.join(crop_dir, image_id)\n",
    "\n",
    "    # Copy image to the respective crop folder\n",
    "    if os.path.exists(source_image):\n",
    "        shutil.copy(source_image, destination_image)\n",
    "    else:\n",
    "        print(f\"Image {image_id} not found in {images_dir}\")\n",
    "\n",
    "print(\"Image organization complete!\")\n"
   ]
  }
 ],
 "metadata": {
  "kernelspec": {
   "display_name": "Python 3",
   "language": "python",
   "name": "python3"
  },
  "language_info": {
   "codemirror_mode": {
    "name": "ipython",
    "version": 3
   },
   "file_extension": ".py",
   "mimetype": "text/x-python",
   "name": "python",
   "nbconvert_exporter": "python",
   "pygments_lexer": "ipython3",
   "version": "3.12.4"
  }
 },
 "nbformat": 4,
 "nbformat_minor": 2
}
